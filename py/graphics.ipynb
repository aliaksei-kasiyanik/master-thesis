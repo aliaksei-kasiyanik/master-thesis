{
 "cells": [
  {
   "cell_type": "code",
   "execution_count": 27,
   "metadata": {
    "collapsed": true
   },
   "outputs": [],
   "source": [
    "%matplotlib inline\n",
    "import matplotlib.pyplot as plt\n",
    "import numpy as np"
   ]
  },
  {
   "cell_type": "code",
   "execution_count": 21,
   "metadata": {
    "collapsed": false
   },
   "outputs": [
    {
     "ename": "TypeError",
     "evalue": "'list' object cannot be interpreted as an integer",
     "output_type": "error",
     "traceback": [
      "\u001b[0;31m---------------------------------------------------------------------------\u001b[0m",
      "\u001b[0;31mTypeError\u001b[0m                                 Traceback (most recent call last)",
      "\u001b[0;32m<ipython-input-21-4c5a9160e6de>\u001b[0m in \u001b[0;36m<module>\u001b[0;34m()\u001b[0m\n\u001b[1;32m      3\u001b[0m \u001b[0;34m\u001b[0m\u001b[0m\n\u001b[1;32m      4\u001b[0m \u001b[0my\u001b[0m \u001b[0;34m=\u001b[0m \u001b[0;34m[\u001b[0m\u001b[0;36m71.55\u001b[0m\u001b[0;34m,\u001b[0m \u001b[0;36m83.54\u001b[0m\u001b[0;34m,\u001b[0m \u001b[0;36m94.98\u001b[0m\u001b[0;34m]\u001b[0m\u001b[0;34m\u001b[0m\u001b[0m\n\u001b[0;32m----> 5\u001b[0;31m \u001b[0mx\u001b[0m \u001b[0;34m=\u001b[0m \u001b[0mrange\u001b[0m\u001b[0;34m(\u001b[0m\u001b[0my\u001b[0m\u001b[0;34m)\u001b[0m\u001b[0;34m\u001b[0m\u001b[0m\n\u001b[0m\u001b[1;32m      6\u001b[0m \u001b[0mind\u001b[0m \u001b[0;34m=\u001b[0m \u001b[0;34m[\u001b[0m\u001b[0;36m0.0\u001b[0m\u001b[0;34m,\u001b[0m \u001b[0;36m0.25\u001b[0m\u001b[0;34m,\u001b[0m \u001b[0;36m0.5\u001b[0m\u001b[0;34m]\u001b[0m\u001b[0;34m\u001b[0m\u001b[0m\n\u001b[1;32m      7\u001b[0m \u001b[0;34m\u001b[0m\u001b[0m\n",
      "\u001b[0;31mTypeError\u001b[0m: 'list' object cannot be interpreted as an integer"
     ]
    },
    {
     "data": {
      "image/png": "[encoded data removed]",
      "text/plain": [
       "<matplotlib.figure.Figure at 0x10e8f39b0>"
      ]
     },
     "metadata": {},
     "output_type": "display_data"
    }
   ],
   "source": [
    "fig, ax = plt.subplots()\n",
    "\n",
    "xx = [1, 2, 3]\n",
    "yy = [71.55, 83.54, 94.98]\n",
    "ind = [0.0, 0.25, 0.5]\n",
    "\n",
    "ax.bar(xx, yy, width=0.4, color='b',align='center')\n",
    "ax.set_xticks(xx)\n",
    "ax.set_xticklabels(ind, minor=False)\n",
    "plt.xlabel('Eps')\n",
    "plt.ylabel('time, s')\n",
    "plt.savefig('eps.png')\n",
    "# ax.autoscale(tight=True)\n",
    "plt.show()\n",
    "\n",
    "\n",
    "# fig.tight_layout()\n",
    "# plt.show()\n"
   ]
  },
  {
   "cell_type": "code",
   "execution_count": 5,
   "metadata": {
    "collapsed": false
   },
   "outputs": [
    {
     "data": {
      "text/plain": [
       "<bound method Axes.plot of <matplotlib.axes._subplots.AxesSubplot object at 0x10db4f550>>"
      ]
     },
     "execution_count": 5,
     "metadata": {},
     "output_type": "execute_result"
    }
   ],
   "source": [
    "11.15\t10.02\t8.15\t2.78\t2.62\t1.92\t2.38"
   ]
  },
  {
   "cell_type": "code",
   "execution_count": 43,
   "metadata": {
    "collapsed": false
   },
   "outputs": [
    {
     "data": {
      "image/png": "[encoded data removed]",
      "text/plain": [
       "<matplotlib.figure.Figure at 0x10e6cd470>"
      ]
     },
     "metadata": {},
     "output_type": "display_data"
    }
   ],
   "source": [
    "fig, ax = plt.subplots()\n",
    "\n",
    "xx = np.arange(len(yy))\n",
    "xx = [x + 3 for x in xx]\n",
    "\n",
    "# yy = [11.15,10.02,8.15,2.78,2.62,1.92,2.38]\n",
    "# ind = [\"MinChanges\",\"MinTimeTransfer\",\"MinTime Walk\", \"MaxPoi\", \"MinCo2\", \"MinPrice\", \"MinTime\"]\n",
    "\n",
    "yy = [22.79,42.21,1.68,1.03,1.21,1.24,1.38]\n",
    "ind = [\"MaxPoi\",\"MinTime\",\"MinChanges\",\"MinTimeTransfer\",\"MinTimeWalk\",\"MinPrice\",\"MinCo2\"]\n",
    "\n",
    "ax.bar(xx, yy, width=0.4, color='b',align='center')\n",
    "ax.set_xticks(xx)\n",
    "ax.set_xticklabels(ind, minor=False, rotation='vertical')\n",
    "\n",
    "# plt.xlabel('Problem Order')\n",
    "plt.ylabel('time, s')\n",
    "plt.savefig('problem_time2.png')\n"
   ]
  },
  {
   "cell_type": "code",
   "execution_count": 48,
   "metadata": {
    "collapsed": false
   },
   "outputs": [
    {
     "data": {
      "image/png": "[encoded data removed]",
      "text/plain": [
       "<matplotlib.figure.Figure at 0x10e23d978>"
      ]
     },
     "metadata": {},
     "output_type": "display_data"
    }
   ],
   "source": [
    "fig, ax = plt.subplots()\n",
    "\n",
    "yy = [94.34666667,19.96444444,43.34888889]\n",
    "ind = [\"A\",\"B\", \"C\"]\n",
    "\n",
    "xx = np.arange(len(yy))\n",
    "xx = [x + 1 for x in xx]\n",
    "\n",
    "ax.bar(xx, yy, width=0.5, color='b',align='center')\n",
    "ax.set_xticks(xx)\n",
    "ax.set_xticklabels(ind, minor=False)\n",
    "\n",
    "plt.xlabel('Scenario')\n",
    "plt.ylabel('time, s')\n",
    "plt.savefig('Scenario.png')"
   ]
  },
  {
   "cell_type": "code",
   "execution_count": 33,
   "metadata": {
    "collapsed": false
   },
   "outputs": [
    {
     "data": {
      "text/plain": [
       "[1, 2, 3]"
      ]
     },
     "execution_count": 33,
     "metadata": {},
     "output_type": "execute_result"
    }
   ],
   "source": [
    "xx"
   ]
  },
  {
   "cell_type": "code",
   "execution_count": null,
   "metadata": {
    "collapsed": true
   },
   "outputs": [],
   "source": []
  }
 ],
 "metadata": {
  "kernelspec": {
   "display_name": "Python [Root]",
   "language": "python",
   "name": "Python [Root]"
  },
  "language_info": {
   "codemirror_mode": {
    "name": "ipython",
    "version": 3
   },
   "file_extension": ".py",
   "mimetype": "text/x-python",
   "name": "python",
   "nbconvert_exporter": "python",
   "pygments_lexer": "ipython3",
   "version": "3.5.2"
  }
 },
 "nbformat": 4,
 "nbformat_minor": 0
}
